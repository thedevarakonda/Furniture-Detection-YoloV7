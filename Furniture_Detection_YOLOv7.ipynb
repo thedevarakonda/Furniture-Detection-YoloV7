{
  "nbformat": 4,
  "nbformat_minor": 0,
  "metadata": {
    "colab": {
      "provenance": [],
      "collapsed_sections": []
    },
    "kernelspec": {
      "name": "python3",
      "display_name": "Python 3"
    },
    "language_info": {
      "name": "python"
    }
  },
  "cells": [
    {
      "cell_type": "markdown",
      "source": [
        "#Download YOLOv7 repository and install requirements"
      ],
      "metadata": {
        "id": "F9fKlWJHHunC"
      }
    },
    {
      "cell_type": "code",
      "execution_count": null,
      "metadata": {
        "id": "jDt3gal5HpXT"
      },
      "outputs": [],
      "source": [
        "!git clone https://github.com/WongKinYiu/yolov7\n",
        "%cd yolov7\n",
        "!pip install -r requirements.txt"
      ]
    },
    {
      "cell_type": "markdown",
      "source": [
        "#Download weights"
      ],
      "metadata": {
        "id": "Avl_COwuIEJi"
      }
    },
    {
      "cell_type": "code",
      "source": [
        "%cd yolov7\n",
        "!wget https://github.com/WongKinYiu/yolov7/releases/download/v0.1/yolov7_training.pt"
      ],
      "metadata": {
        "id": "4awTikACIDUA"
      },
      "execution_count": null,
      "outputs": []
    },
    {
      "cell_type": "markdown",
      "source": [
        "#Run detection on Images or Videos or even using Webcam\n",
        "For webcam give **--source 0**"
      ],
      "metadata": {
        "id": "HK6rsAzyIht7"
      }
    },
    {
      "cell_type": "code",
      "source": [
        "%cd yolov7\n",
        "!python detect.py --source {give_dataset_location}  --conf {set_confidence_level} --clasess 56 57 59 60"
      ],
      "metadata": {
        "id": "lO5j8L-bIhac"
      },
      "execution_count": null,
      "outputs": []
    },
    {
      "cell_type": "markdown",
      "source": [
        "#Results will be saved in yolov7/runs/detect/exp[number]\n",
        "Display inference on all images"
      ],
      "metadata": {
        "id": "bdJ3czQ_JfuZ"
      }
    },
    {
      "cell_type": "code",
      "source": [
        "import glob\n",
        "from IPython.display import Image, display\n",
        "\n",
        "i = 0\n",
        "limit = 1000 # max images to print\n",
        "for imageName in glob.glob('/content/yolov7/runs/detect/exp/*.jpg'): #assuming JPG\n",
        "    if i < limit:\n",
        "      display(Image(filename=imageName))\n",
        "      print(\"\\n\")"
      ],
      "metadata": {
        "id": "xUW4b04cJ2FI"
      },
      "execution_count": null,
      "outputs": []
    },
    {
      "cell_type": "markdown",
      "source": [
        "#(Optional)To count number of objects\n",
        "Install this python script"
      ],
      "metadata": {
        "id": "1uSvlxs9LK_W"
      }
    },
    {
      "cell_type": "code",
      "source": [
        "!wget https://github.com/muratali016/Yolov7-Object-Counter-Custom-Funcitons/blob/main/detect_and_count.py"
      ],
      "metadata": {
        "id": "i4751_UhNR5X"
      },
      "execution_count": null,
      "outputs": []
    },
    {
      "cell_type": "markdown",
      "source": [
        "#Run this cell\n",
        "Results same as previous cells"
      ],
      "metadata": {
        "id": "eBWEkAP8RNn2"
      }
    },
    {
      "cell_type": "code",
      "source": [
        "!python detect_and_count.py --source {give_dataset_location}  --conf {set_confidence_level} --clasess 56 57 59 60"
      ],
      "metadata": {
        "id": "YMwgz9crRR_q"
      },
      "execution_count": null,
      "outputs": []
    }
  ]
}